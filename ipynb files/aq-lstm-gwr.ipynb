{
 "cells": [
  {
   "cell_type": "code",
   "execution_count": 1,
   "id": "2fa98494",
   "metadata": {
    "execution": {
     "iopub.execute_input": "2025-04-07T12:21:54.172465Z",
     "iopub.status.busy": "2025-04-07T12:21:54.171887Z",
     "iopub.status.idle": "2025-04-07T12:22:12.717030Z",
     "shell.execute_reply": "2025-04-07T12:22:12.715825Z"
    },
    "papermill": {
     "duration": 18.55376,
     "end_time": "2025-04-07T12:22:12.719157",
     "exception": false,
     "start_time": "2025-04-07T12:21:54.165397",
     "status": "completed"
    },
    "tags": []
   },
   "outputs": [],
   "source": [
    "import pandas as pd\n",
    "import numpy as np\n",
    "from sklearn.model_selection import train_test_split\n",
    "from sklearn.preprocessing import MinMaxScaler\n",
    "from tensorflow.keras.models import Sequential\n",
    "from tensorflow.keras.layers import LSTM, Dense, Dropout\n",
    "import matplotlib.pyplot as plt\n",
    "from sklearn.metrics import mean_squared_error, mean_absolute_error\n"
   ]
  },
  {
   "cell_type": "code",
   "execution_count": 2,
   "id": "4c525fc6",
   "metadata": {
    "execution": {
     "iopub.execute_input": "2025-04-07T12:22:12.729044Z",
     "iopub.status.busy": "2025-04-07T12:22:12.728372Z",
     "iopub.status.idle": "2025-04-07T12:22:13.486458Z",
     "shell.execute_reply": "2025-04-07T12:22:13.485327Z"
    },
    "papermill": {
     "duration": 0.764719,
     "end_time": "2025-04-07T12:22:13.488417",
     "exception": false,
     "start_time": "2025-04-07T12:22:12.723698",
     "status": "completed"
    },
    "tags": []
   },
   "outputs": [
    {
     "data": {
      "text/html": [
       "<div>\n",
       "<style scoped>\n",
       "    .dataframe tbody tr th:only-of-type {\n",
       "        vertical-align: middle;\n",
       "    }\n",
       "\n",
       "    .dataframe tbody tr th {\n",
       "        vertical-align: top;\n",
       "    }\n",
       "\n",
       "    .dataframe thead th {\n",
       "        text-align: right;\n",
       "    }\n",
       "</style>\n",
       "<table border=\"1\" class=\"dataframe\">\n",
       "  <thead>\n",
       "    <tr style=\"text-align: right;\">\n",
       "      <th></th>\n",
       "      <th>country</th>\n",
       "      <th>location_name</th>\n",
       "      <th>latitude</th>\n",
       "      <th>longitude</th>\n",
       "      <th>timezone</th>\n",
       "      <th>last_updated_epoch</th>\n",
       "      <th>last_updated</th>\n",
       "      <th>temperature_celsius</th>\n",
       "      <th>temperature_fahrenheit</th>\n",
       "      <th>condition_text</th>\n",
       "      <th>...</th>\n",
       "      <th>air_quality_PM2.5</th>\n",
       "      <th>air_quality_PM10</th>\n",
       "      <th>air_quality_us-epa-index</th>\n",
       "      <th>air_quality_gb-defra-index</th>\n",
       "      <th>sunrise</th>\n",
       "      <th>sunset</th>\n",
       "      <th>moonrise</th>\n",
       "      <th>moonset</th>\n",
       "      <th>moon_phase</th>\n",
       "      <th>moon_illumination</th>\n",
       "    </tr>\n",
       "  </thead>\n",
       "  <tbody>\n",
       "    <tr>\n",
       "      <th>0</th>\n",
       "      <td>Afghanistan</td>\n",
       "      <td>Kabul</td>\n",
       "      <td>34.5200</td>\n",
       "      <td>69.1800</td>\n",
       "      <td>Asia/Kabul</td>\n",
       "      <td>1715849100</td>\n",
       "      <td>16-05-2024 13:15</td>\n",
       "      <td>26.6</td>\n",
       "      <td>79.8</td>\n",
       "      <td>Partly Cloudy</td>\n",
       "      <td>...</td>\n",
       "      <td>8.400</td>\n",
       "      <td>26.600</td>\n",
       "      <td>1</td>\n",
       "      <td>1</td>\n",
       "      <td>4:50 AM</td>\n",
       "      <td>6:50 PM</td>\n",
       "      <td>12:12 PM</td>\n",
       "      <td>1:11 AM</td>\n",
       "      <td>Waxing Gibbous</td>\n",
       "      <td>55</td>\n",
       "    </tr>\n",
       "    <tr>\n",
       "      <th>1</th>\n",
       "      <td>Albania</td>\n",
       "      <td>Tirana</td>\n",
       "      <td>41.3300</td>\n",
       "      <td>19.8200</td>\n",
       "      <td>Europe/Tirane</td>\n",
       "      <td>1715849100</td>\n",
       "      <td>16-05-2024 10:45</td>\n",
       "      <td>19.0</td>\n",
       "      <td>66.2</td>\n",
       "      <td>Partly cloudy</td>\n",
       "      <td>...</td>\n",
       "      <td>1.100</td>\n",
       "      <td>2.000</td>\n",
       "      <td>1</td>\n",
       "      <td>1</td>\n",
       "      <td>5:21 AM</td>\n",
       "      <td>7:54 PM</td>\n",
       "      <td>12:58 PM</td>\n",
       "      <td>2:14 AM</td>\n",
       "      <td>Waxing Gibbous</td>\n",
       "      <td>55</td>\n",
       "    </tr>\n",
       "    <tr>\n",
       "      <th>2</th>\n",
       "      <td>Algeria</td>\n",
       "      <td>Algiers</td>\n",
       "      <td>36.7600</td>\n",
       "      <td>3.0500</td>\n",
       "      <td>Africa/Algiers</td>\n",
       "      <td>1715849100</td>\n",
       "      <td>16-05-2024 09:45</td>\n",
       "      <td>23.0</td>\n",
       "      <td>73.4</td>\n",
       "      <td>Sunny</td>\n",
       "      <td>...</td>\n",
       "      <td>10.400</td>\n",
       "      <td>18.400</td>\n",
       "      <td>1</td>\n",
       "      <td>1</td>\n",
       "      <td>5:40 AM</td>\n",
       "      <td>7:50 PM</td>\n",
       "      <td>1:15 PM</td>\n",
       "      <td>2:14 AM</td>\n",
       "      <td>Waxing Gibbous</td>\n",
       "      <td>55</td>\n",
       "    </tr>\n",
       "    <tr>\n",
       "      <th>3</th>\n",
       "      <td>Andorra</td>\n",
       "      <td>Andorra La Vella</td>\n",
       "      <td>42.5000</td>\n",
       "      <td>1.5200</td>\n",
       "      <td>Europe/Andorra</td>\n",
       "      <td>1715849100</td>\n",
       "      <td>16-05-2024 10:45</td>\n",
       "      <td>6.3</td>\n",
       "      <td>43.3</td>\n",
       "      <td>Light drizzle</td>\n",
       "      <td>...</td>\n",
       "      <td>0.700</td>\n",
       "      <td>0.900</td>\n",
       "      <td>1</td>\n",
       "      <td>1</td>\n",
       "      <td>6:31 AM</td>\n",
       "      <td>9:11 PM</td>\n",
       "      <td>2:12 PM</td>\n",
       "      <td>3:31 AM</td>\n",
       "      <td>Waxing Gibbous</td>\n",
       "      <td>55</td>\n",
       "    </tr>\n",
       "    <tr>\n",
       "      <th>4</th>\n",
       "      <td>Angola</td>\n",
       "      <td>Luanda</td>\n",
       "      <td>-8.8400</td>\n",
       "      <td>13.2300</td>\n",
       "      <td>Africa/Luanda</td>\n",
       "      <td>1715849100</td>\n",
       "      <td>16-05-2024 09:45</td>\n",
       "      <td>26.0</td>\n",
       "      <td>78.8</td>\n",
       "      <td>Partly cloudy</td>\n",
       "      <td>...</td>\n",
       "      <td>183.400</td>\n",
       "      <td>262.300</td>\n",
       "      <td>5</td>\n",
       "      <td>10</td>\n",
       "      <td>6:12 AM</td>\n",
       "      <td>5:55 PM</td>\n",
       "      <td>1:17 PM</td>\n",
       "      <td>12:38 AM</td>\n",
       "      <td>Waxing Gibbous</td>\n",
       "      <td>55</td>\n",
       "    </tr>\n",
       "    <tr>\n",
       "      <th>...</th>\n",
       "      <td>...</td>\n",
       "      <td>...</td>\n",
       "      <td>...</td>\n",
       "      <td>...</td>\n",
       "      <td>...</td>\n",
       "      <td>...</td>\n",
       "      <td>...</td>\n",
       "      <td>...</td>\n",
       "      <td>...</td>\n",
       "      <td>...</td>\n",
       "      <td>...</td>\n",
       "      <td>...</td>\n",
       "      <td>...</td>\n",
       "      <td>...</td>\n",
       "      <td>...</td>\n",
       "      <td>...</td>\n",
       "      <td>...</td>\n",
       "      <td>...</td>\n",
       "      <td>...</td>\n",
       "      <td>...</td>\n",
       "      <td>...</td>\n",
       "    </tr>\n",
       "    <tr>\n",
       "      <th>47547</th>\n",
       "      <td>Venezuela</td>\n",
       "      <td>Caracas</td>\n",
       "      <td>10.5000</td>\n",
       "      <td>-66.9167</td>\n",
       "      <td>America/Caracas</td>\n",
       "      <td>1737022500</td>\n",
       "      <td>16-01-2025 06:15</td>\n",
       "      <td>22.1</td>\n",
       "      <td>71.8</td>\n",
       "      <td>Clear</td>\n",
       "      <td>...</td>\n",
       "      <td>6.290</td>\n",
       "      <td>8.140</td>\n",
       "      <td>1</td>\n",
       "      <td>1</td>\n",
       "      <td>6:50 AM</td>\n",
       "      <td>6:25 PM</td>\n",
       "      <td>9:00 PM</td>\n",
       "      <td>8:58 AM</td>\n",
       "      <td>Waning Gibbous</td>\n",
       "      <td>94</td>\n",
       "    </tr>\n",
       "    <tr>\n",
       "      <th>47548</th>\n",
       "      <td>Vietnam</td>\n",
       "      <td>Hanoi</td>\n",
       "      <td>21.0333</td>\n",
       "      <td>105.8500</td>\n",
       "      <td>Asia/Bangkok</td>\n",
       "      <td>1737018900</td>\n",
       "      <td>16-01-2025 16:15</td>\n",
       "      <td>22.3</td>\n",
       "      <td>72.1</td>\n",
       "      <td>Sunny</td>\n",
       "      <td>...</td>\n",
       "      <td>103.785</td>\n",
       "      <td>104.895</td>\n",
       "      <td>4</td>\n",
       "      <td>10</td>\n",
       "      <td>6:36 AM</td>\n",
       "      <td>5:37 PM</td>\n",
       "      <td>7:54 PM</td>\n",
       "      <td>8:21 AM</td>\n",
       "      <td>Waning Gibbous</td>\n",
       "      <td>96</td>\n",
       "    </tr>\n",
       "    <tr>\n",
       "      <th>47549</th>\n",
       "      <td>Yemen</td>\n",
       "      <td>Sanaa</td>\n",
       "      <td>15.3547</td>\n",
       "      <td>44.2067</td>\n",
       "      <td>Asia/Aden</td>\n",
       "      <td>1737022500</td>\n",
       "      <td>16-01-2025 13:15</td>\n",
       "      <td>20.9</td>\n",
       "      <td>69.7</td>\n",
       "      <td>Sunny</td>\n",
       "      <td>...</td>\n",
       "      <td>5.550</td>\n",
       "      <td>10.545</td>\n",
       "      <td>1</td>\n",
       "      <td>1</td>\n",
       "      <td>6:33 AM</td>\n",
       "      <td>5:53 PM</td>\n",
       "      <td>8:16 PM</td>\n",
       "      <td>8:27 AM</td>\n",
       "      <td>Waning Gibbous</td>\n",
       "      <td>96</td>\n",
       "    </tr>\n",
       "    <tr>\n",
       "      <th>47550</th>\n",
       "      <td>Zambia</td>\n",
       "      <td>Lusaka</td>\n",
       "      <td>-15.4167</td>\n",
       "      <td>28.2833</td>\n",
       "      <td>Africa/Lusaka</td>\n",
       "      <td>1737022500</td>\n",
       "      <td>16-01-2025 12:15</td>\n",
       "      <td>27.0</td>\n",
       "      <td>80.5</td>\n",
       "      <td>Patchy rain nearby</td>\n",
       "      <td>...</td>\n",
       "      <td>22.570</td>\n",
       "      <td>22.755</td>\n",
       "      <td>2</td>\n",
       "      <td>2</td>\n",
       "      <td>5:49 AM</td>\n",
       "      <td>6:44 PM</td>\n",
       "      <td>8:53 PM</td>\n",
       "      <td>7:55 AM</td>\n",
       "      <td>Waning Gibbous</td>\n",
       "      <td>96</td>\n",
       "    </tr>\n",
       "    <tr>\n",
       "      <th>47551</th>\n",
       "      <td>Zimbabwe</td>\n",
       "      <td>Harare</td>\n",
       "      <td>-17.8178</td>\n",
       "      <td>31.0447</td>\n",
       "      <td>Africa/Harare</td>\n",
       "      <td>1737018900</td>\n",
       "      <td>16-01-2025 11:15</td>\n",
       "      <td>23.2</td>\n",
       "      <td>73.8</td>\n",
       "      <td>Light rain shower</td>\n",
       "      <td>...</td>\n",
       "      <td>22.200</td>\n",
       "      <td>22.200</td>\n",
       "      <td>2</td>\n",
       "      <td>2</td>\n",
       "      <td>5:34 AM</td>\n",
       "      <td>6:37 PM</td>\n",
       "      <td>8:44 PM</td>\n",
       "      <td>7:40 AM</td>\n",
       "      <td>Waning Gibbous</td>\n",
       "      <td>96</td>\n",
       "    </tr>\n",
       "  </tbody>\n",
       "</table>\n",
       "<p>47552 rows × 41 columns</p>\n",
       "</div>"
      ],
      "text/plain": [
       "           country     location_name  latitude  longitude         timezone  \\\n",
       "0      Afghanistan             Kabul   34.5200    69.1800       Asia/Kabul   \n",
       "1          Albania            Tirana   41.3300    19.8200    Europe/Tirane   \n",
       "2          Algeria           Algiers   36.7600     3.0500   Africa/Algiers   \n",
       "3          Andorra  Andorra La Vella   42.5000     1.5200   Europe/Andorra   \n",
       "4           Angola            Luanda   -8.8400    13.2300    Africa/Luanda   \n",
       "...            ...               ...       ...        ...              ...   \n",
       "47547    Venezuela           Caracas   10.5000   -66.9167  America/Caracas   \n",
       "47548      Vietnam             Hanoi   21.0333   105.8500     Asia/Bangkok   \n",
       "47549        Yemen             Sanaa   15.3547    44.2067        Asia/Aden   \n",
       "47550       Zambia            Lusaka  -15.4167    28.2833    Africa/Lusaka   \n",
       "47551     Zimbabwe            Harare  -17.8178    31.0447    Africa/Harare   \n",
       "\n",
       "       last_updated_epoch      last_updated  temperature_celsius  \\\n",
       "0              1715849100  16-05-2024 13:15                 26.6   \n",
       "1              1715849100  16-05-2024 10:45                 19.0   \n",
       "2              1715849100  16-05-2024 09:45                 23.0   \n",
       "3              1715849100  16-05-2024 10:45                  6.3   \n",
       "4              1715849100  16-05-2024 09:45                 26.0   \n",
       "...                   ...               ...                  ...   \n",
       "47547          1737022500  16-01-2025 06:15                 22.1   \n",
       "47548          1737018900  16-01-2025 16:15                 22.3   \n",
       "47549          1737022500  16-01-2025 13:15                 20.9   \n",
       "47550          1737022500  16-01-2025 12:15                 27.0   \n",
       "47551          1737018900  16-01-2025 11:15                 23.2   \n",
       "\n",
       "       temperature_fahrenheit      condition_text  ...  air_quality_PM2.5  \\\n",
       "0                        79.8       Partly Cloudy  ...              8.400   \n",
       "1                        66.2       Partly cloudy  ...              1.100   \n",
       "2                        73.4               Sunny  ...             10.400   \n",
       "3                        43.3       Light drizzle  ...              0.700   \n",
       "4                        78.8       Partly cloudy  ...            183.400   \n",
       "...                       ...                 ...  ...                ...   \n",
       "47547                    71.8               Clear  ...              6.290   \n",
       "47548                    72.1               Sunny  ...            103.785   \n",
       "47549                    69.7               Sunny  ...              5.550   \n",
       "47550                    80.5  Patchy rain nearby  ...             22.570   \n",
       "47551                    73.8   Light rain shower  ...             22.200   \n",
       "\n",
       "       air_quality_PM10  air_quality_us-epa-index air_quality_gb-defra-index  \\\n",
       "0                26.600                         1                          1   \n",
       "1                 2.000                         1                          1   \n",
       "2                18.400                         1                          1   \n",
       "3                 0.900                         1                          1   \n",
       "4               262.300                         5                         10   \n",
       "...                 ...                       ...                        ...   \n",
       "47547             8.140                         1                          1   \n",
       "47548           104.895                         4                         10   \n",
       "47549            10.545                         1                          1   \n",
       "47550            22.755                         2                          2   \n",
       "47551            22.200                         2                          2   \n",
       "\n",
       "       sunrise   sunset  moonrise   moonset      moon_phase  moon_illumination  \n",
       "0      4:50 AM  6:50 PM  12:12 PM   1:11 AM  Waxing Gibbous                 55  \n",
       "1      5:21 AM  7:54 PM  12:58 PM   2:14 AM  Waxing Gibbous                 55  \n",
       "2      5:40 AM  7:50 PM   1:15 PM   2:14 AM  Waxing Gibbous                 55  \n",
       "3      6:31 AM  9:11 PM   2:12 PM   3:31 AM  Waxing Gibbous                 55  \n",
       "4      6:12 AM  5:55 PM   1:17 PM  12:38 AM  Waxing Gibbous                 55  \n",
       "...        ...      ...       ...       ...             ...                ...  \n",
       "47547  6:50 AM  6:25 PM   9:00 PM   8:58 AM  Waning Gibbous                 94  \n",
       "47548  6:36 AM  5:37 PM   7:54 PM   8:21 AM  Waning Gibbous                 96  \n",
       "47549  6:33 AM  5:53 PM   8:16 PM   8:27 AM  Waning Gibbous                 96  \n",
       "47550  5:49 AM  6:44 PM   8:53 PM   7:55 AM  Waning Gibbous                 96  \n",
       "47551  5:34 AM  6:37 PM   8:44 PM   7:40 AM  Waning Gibbous                 96  \n",
       "\n",
       "[47552 rows x 41 columns]"
      ]
     },
     "execution_count": 2,
     "metadata": {},
     "output_type": "execute_result"
    }
   ],
   "source": [
    "\n",
    "# Load the dataset\n",
    "df = pd.read_csv('/kaggle/input/globalweatherrepository/GlobalWeatherRepository.csv')\n",
    "df"
   ]
  },
  {
   "cell_type": "code",
   "execution_count": 3,
   "id": "169bb1dc",
   "metadata": {
    "execution": {
     "iopub.execute_input": "2025-04-07T12:22:13.498426Z",
     "iopub.status.busy": "2025-04-07T12:22:13.498086Z",
     "iopub.status.idle": "2025-04-07T12:22:13.539442Z",
     "shell.execute_reply": "2025-04-07T12:22:13.537644Z"
    },
    "papermill": {
     "duration": 0.049001,
     "end_time": "2025-04-07T12:22:13.541876",
     "exception": false,
     "start_time": "2025-04-07T12:22:13.492875",
     "status": "completed"
    },
    "tags": []
   },
   "outputs": [
    {
     "name": "stdout",
     "output_type": "stream",
     "text": [
      "country                         0\n",
      "location_name                   0\n",
      "latitude                        0\n",
      "longitude                       0\n",
      "timezone                        0\n",
      "last_updated_epoch              0\n",
      "last_updated                    0\n",
      "temperature_celsius             0\n",
      "temperature_fahrenheit          0\n",
      "condition_text                  0\n",
      "wind_mph                        0\n",
      "wind_kph                        0\n",
      "wind_degree                     0\n",
      "wind_direction                  0\n",
      "pressure_mb                     0\n",
      "pressure_in                     0\n",
      "precip_mm                       0\n",
      "precip_in                       0\n",
      "humidity                        0\n",
      "cloud                           0\n",
      "feels_like_celsius              0\n",
      "feels_like_fahrenheit           0\n",
      "visibility_km                   0\n",
      "visibility_miles                0\n",
      "uv_index                        0\n",
      "gust_mph                        0\n",
      "gust_kph                        0\n",
      "air_quality_Carbon_Monoxide     0\n",
      "air_quality_Ozone               0\n",
      "air_quality_Nitrogen_dioxide    0\n",
      "air_quality_Sulphur_dioxide     0\n",
      "air_quality_PM2.5               0\n",
      "air_quality_PM10                0\n",
      "air_quality_us-epa-index        0\n",
      "air_quality_gb-defra-index      0\n",
      "sunrise                         0\n",
      "sunset                          0\n",
      "moonrise                        0\n",
      "moonset                         0\n",
      "moon_phase                      0\n",
      "moon_illumination               0\n",
      "dtype: int64\n"
     ]
    }
   ],
   "source": [
    "# Check for missing values\n",
    "print(df.isnull().sum())"
   ]
  },
  {
   "cell_type": "code",
   "execution_count": 4,
   "id": "343cba30",
   "metadata": {
    "execution": {
     "iopub.execute_input": "2025-04-07T12:22:13.553416Z",
     "iopub.status.busy": "2025-04-07T12:22:13.552958Z",
     "iopub.status.idle": "2025-04-07T12:22:13.629100Z",
     "shell.execute_reply": "2025-04-07T12:22:13.627734Z"
    },
    "papermill": {
     "duration": 0.084588,
     "end_time": "2025-04-07T12:22:13.631518",
     "exception": false,
     "start_time": "2025-04-07T12:22:13.546930",
     "status": "completed"
    },
    "tags": []
   },
   "outputs": [],
   "source": [
    "# Fill or drop missing values as appropriate\n",
    "df.ffill(inplace=True)  # Forward fill as an example  # Forward fill as an example"
   ]
  },
  {
   "cell_type": "code",
   "execution_count": 5,
   "id": "31a9b379",
   "metadata": {
    "execution": {
     "iopub.execute_input": "2025-04-07T12:22:13.644284Z",
     "iopub.status.busy": "2025-04-07T12:22:13.643815Z",
     "iopub.status.idle": "2025-04-07T12:22:13.705017Z",
     "shell.execute_reply": "2025-04-07T12:22:13.703727Z"
    },
    "papermill": {
     "duration": 0.070649,
     "end_time": "2025-04-07T12:22:13.707751",
     "exception": false,
     "start_time": "2025-04-07T12:22:13.637102",
     "status": "completed"
    },
    "tags": []
   },
   "outputs": [],
   "source": [
    "# Convert 'last_updated' to datetime and extract features\n",
    "df['last_updated'] = pd.to_datetime(df['last_updated'], dayfirst=True)\n",
    "df['hour'] = df['last_updated'].dt.hour\n",
    "df['day'] = df['last_updated'].dt.day\n",
    "df['month'] = df['last_updated'].dt.month\n",
    "df['year'] = df['last_updated'].dt.year"
   ]
  },
  {
   "cell_type": "code",
   "execution_count": 6,
   "id": "d9170d6b",
   "metadata": {
    "execution": {
     "iopub.execute_input": "2025-04-07T12:22:13.720088Z",
     "iopub.status.busy": "2025-04-07T12:22:13.719620Z",
     "iopub.status.idle": "2025-04-07T12:22:13.725062Z",
     "shell.execute_reply": "2025-04-07T12:22:13.723801Z"
    },
    "papermill": {
     "duration": 0.014156,
     "end_time": "2025-04-07T12:22:13.727169",
     "exception": false,
     "start_time": "2025-04-07T12:22:13.713013",
     "status": "completed"
    },
    "tags": []
   },
   "outputs": [],
   "source": [
    "# Select features and target variable\n",
    "features = [\n",
    "    'temperature_celsius', \n",
    "    'humidity', \n",
    "    'wind_mph', \n",
    "    'air_quality_Ozone', \n",
    "    'air_quality_Nitrogen_dioxide', \n",
    "    'air_quality_Sulphur_dioxide', \n",
    "    'air_quality_PM10', \n",
    "    'air_quality_us-epa-index'\n",
    "]\n",
    "target = 'air_quality_PM2.5'  # Example target variable"
   ]
  },
  {
   "cell_type": "code",
   "execution_count": 7,
   "id": "5e385424",
   "metadata": {
    "execution": {
     "iopub.execute_input": "2025-04-07T12:22:13.738897Z",
     "iopub.status.busy": "2025-04-07T12:22:13.738345Z",
     "iopub.status.idle": "2025-04-07T12:22:13.766079Z",
     "shell.execute_reply": "2025-04-07T12:22:13.764912Z"
    },
    "papermill": {
     "duration": 0.03621,
     "end_time": "2025-04-07T12:22:13.768558",
     "exception": false,
     "start_time": "2025-04-07T12:22:13.732348",
     "status": "completed"
    },
    "tags": []
   },
   "outputs": [],
   "source": [
    "# Normalize the features\n",
    "scaler = MinMaxScaler()\n",
    "df[features] = scaler.fit_transform(df[features])"
   ]
  },
  {
   "cell_type": "code",
   "execution_count": 8,
   "id": "4dc55a22",
   "metadata": {
    "execution": {
     "iopub.execute_input": "2025-04-07T12:22:13.779955Z",
     "iopub.status.busy": "2025-04-07T12:22:13.779454Z",
     "iopub.status.idle": "2025-04-07T12:22:13.802302Z",
     "shell.execute_reply": "2025-04-07T12:22:13.800546Z"
    },
    "papermill": {
     "duration": 0.031518,
     "end_time": "2025-04-07T12:22:13.804952",
     "exception": false,
     "start_time": "2025-04-07T12:22:13.773434",
     "status": "completed"
    },
    "tags": []
   },
   "outputs": [],
   "source": [
    "# Train-test split\n",
    "X = df[features]\n",
    "y = df[target]\n",
    "\n",
    "X_train, X_test, y_train, y_test = train_test_split(X, y, test_size=0.2, random_state=42)\n",
    "\n",
    "# Reshape the data for LSTM\n",
    "X_train = np.array(X_train).reshape((X_train.shape[0], 1, X_train.shape[1]))\n",
    "X_test = np.array(X_test).reshape((X_test.shape[0], 1, X_test.shape[1]))"
   ]
  },
  {
   "cell_type": "code",
   "execution_count": 9,
   "id": "8ca30792",
   "metadata": {
    "execution": {
     "iopub.execute_input": "2025-04-07T12:22:13.816216Z",
     "iopub.status.busy": "2025-04-07T12:22:13.815773Z",
     "iopub.status.idle": "2025-04-07T12:22:14.045260Z",
     "shell.execute_reply": "2025-04-07T12:22:14.043858Z"
    },
    "papermill": {
     "duration": 0.237584,
     "end_time": "2025-04-07T12:22:14.047422",
     "exception": false,
     "start_time": "2025-04-07T12:22:13.809838",
     "status": "completed"
    },
    "tags": []
   },
   "outputs": [
    {
     "name": "stderr",
     "output_type": "stream",
     "text": [
      "/usr/local/lib/python3.10/dist-packages/keras/src/layers/rnn/rnn.py:204: UserWarning: Do not pass an `input_shape`/`input_dim` argument to a layer. When using Sequential models, prefer using an `Input(shape)` object as the first layer in the model instead.\n",
      "  super().__init__(**kwargs)\n"
     ]
    },
    {
     "data": {
      "text/html": [
       "<pre style=\"white-space:pre;overflow-x:auto;line-height:normal;font-family:Menlo,'DejaVu Sans Mono',consolas,'Courier New',monospace\"><span style=\"font-weight: bold\">Model: \"sequential\"</span>\n",
       "</pre>\n"
      ],
      "text/plain": [
       "\u001b[1mModel: \"sequential\"\u001b[0m\n"
      ]
     },
     "metadata": {},
     "output_type": "display_data"
    },
    {
     "data": {
      "text/html": [
       "<pre style=\"white-space:pre;overflow-x:auto;line-height:normal;font-family:Menlo,'DejaVu Sans Mono',consolas,'Courier New',monospace\">┏━━━━━━━━━━━━━━━━━━━━━━━━━━━━━━━━━━━━━━┳━━━━━━━━━━━━━━━━━━━━━━━━━━━━━┳━━━━━━━━━━━━━━━━━┓\n",
       "┃<span style=\"font-weight: bold\"> Layer (type)                         </span>┃<span style=\"font-weight: bold\"> Output Shape                </span>┃<span style=\"font-weight: bold\">         Param # </span>┃\n",
       "┡━━━━━━━━━━━━━━━━━━━━━━━━━━━━━━━━━━━━━━╇━━━━━━━━━━━━━━━━━━━━━━━━━━━━━╇━━━━━━━━━━━━━━━━━┩\n",
       "│ lstm (<span style=\"color: #0087ff; text-decoration-color: #0087ff\">LSTM</span>)                          │ (<span style=\"color: #00d7ff; text-decoration-color: #00d7ff\">None</span>, <span style=\"color: #00af00; text-decoration-color: #00af00\">1</span>, <span style=\"color: #00af00; text-decoration-color: #00af00\">50</span>)               │          <span style=\"color: #00af00; text-decoration-color: #00af00\">11,800</span> │\n",
       "├──────────────────────────────────────┼─────────────────────────────┼─────────────────┤\n",
       "│ dropout (<span style=\"color: #0087ff; text-decoration-color: #0087ff\">Dropout</span>)                    │ (<span style=\"color: #00d7ff; text-decoration-color: #00d7ff\">None</span>, <span style=\"color: #00af00; text-decoration-color: #00af00\">1</span>, <span style=\"color: #00af00; text-decoration-color: #00af00\">50</span>)               │               <span style=\"color: #00af00; text-decoration-color: #00af00\">0</span> │\n",
       "├──────────────────────────────────────┼─────────────────────────────┼─────────────────┤\n",
       "│ lstm_1 (<span style=\"color: #0087ff; text-decoration-color: #0087ff\">LSTM</span>)                        │ (<span style=\"color: #00d7ff; text-decoration-color: #00d7ff\">None</span>, <span style=\"color: #00af00; text-decoration-color: #00af00\">50</span>)                  │          <span style=\"color: #00af00; text-decoration-color: #00af00\">20,200</span> │\n",
       "├──────────────────────────────────────┼─────────────────────────────┼─────────────────┤\n",
       "│ dropout_1 (<span style=\"color: #0087ff; text-decoration-color: #0087ff\">Dropout</span>)                  │ (<span style=\"color: #00d7ff; text-decoration-color: #00d7ff\">None</span>, <span style=\"color: #00af00; text-decoration-color: #00af00\">50</span>)                  │               <span style=\"color: #00af00; text-decoration-color: #00af00\">0</span> │\n",
       "├──────────────────────────────────────┼─────────────────────────────┼─────────────────┤\n",
       "│ dense (<span style=\"color: #0087ff; text-decoration-color: #0087ff\">Dense</span>)                        │ (<span style=\"color: #00d7ff; text-decoration-color: #00d7ff\">None</span>, <span style=\"color: #00af00; text-decoration-color: #00af00\">1</span>)                   │              <span style=\"color: #00af00; text-decoration-color: #00af00\">51</span> │\n",
       "└──────────────────────────────────────┴─────────────────────────────┴─────────────────┘\n",
       "</pre>\n"
      ],
      "text/plain": [
       "┏━━━━━━━━━━━━━━━━━━━━━━━━━━━━━━━━━━━━━━┳━━━━━━━━━━━━━━━━━━━━━━━━━━━━━┳━━━━━━━━━━━━━━━━━┓\n",
       "┃\u001b[1m \u001b[0m\u001b[1mLayer (type)                        \u001b[0m\u001b[1m \u001b[0m┃\u001b[1m \u001b[0m\u001b[1mOutput Shape               \u001b[0m\u001b[1m \u001b[0m┃\u001b[1m \u001b[0m\u001b[1m        Param #\u001b[0m\u001b[1m \u001b[0m┃\n",
       "┡━━━━━━━━━━━━━━━━━━━━━━━━━━━━━━━━━━━━━━╇━━━━━━━━━━━━━━━━━━━━━━━━━━━━━╇━━━━━━━━━━━━━━━━━┩\n",
       "│ lstm (\u001b[38;5;33mLSTM\u001b[0m)                          │ (\u001b[38;5;45mNone\u001b[0m, \u001b[38;5;34m1\u001b[0m, \u001b[38;5;34m50\u001b[0m)               │          \u001b[38;5;34m11,800\u001b[0m │\n",
       "├──────────────────────────────────────┼─────────────────────────────┼─────────────────┤\n",
       "│ dropout (\u001b[38;5;33mDropout\u001b[0m)                    │ (\u001b[38;5;45mNone\u001b[0m, \u001b[38;5;34m1\u001b[0m, \u001b[38;5;34m50\u001b[0m)               │               \u001b[38;5;34m0\u001b[0m │\n",
       "├──────────────────────────────────────┼─────────────────────────────┼─────────────────┤\n",
       "│ lstm_1 (\u001b[38;5;33mLSTM\u001b[0m)                        │ (\u001b[38;5;45mNone\u001b[0m, \u001b[38;5;34m50\u001b[0m)                  │          \u001b[38;5;34m20,200\u001b[0m │\n",
       "├──────────────────────────────────────┼─────────────────────────────┼─────────────────┤\n",
       "│ dropout_1 (\u001b[38;5;33mDropout\u001b[0m)                  │ (\u001b[38;5;45mNone\u001b[0m, \u001b[38;5;34m50\u001b[0m)                  │               \u001b[38;5;34m0\u001b[0m │\n",
       "├──────────────────────────────────────┼─────────────────────────────┼─────────────────┤\n",
       "│ dense (\u001b[38;5;33mDense\u001b[0m)                        │ (\u001b[38;5;45mNone\u001b[0m, \u001b[38;5;34m1\u001b[0m)                   │              \u001b[38;5;34m51\u001b[0m │\n",
       "└──────────────────────────────────────┴─────────────────────────────┴─────────────────┘\n"
      ]
     },
     "metadata": {},
     "output_type": "display_data"
    },
    {
     "data": {
      "text/html": [
       "<pre style=\"white-space:pre;overflow-x:auto;line-height:normal;font-family:Menlo,'DejaVu Sans Mono',consolas,'Courier New',monospace\"><span style=\"font-weight: bold\"> Total params: </span><span style=\"color: #00af00; text-decoration-color: #00af00\">32,051</span> (125.20 KB)\n",
       "</pre>\n"
      ],
      "text/plain": [
       "\u001b[1m Total params: \u001b[0m\u001b[38;5;34m32,051\u001b[0m (125.20 KB)\n"
      ]
     },
     "metadata": {},
     "output_type": "display_data"
    },
    {
     "data": {
      "text/html": [
       "<pre style=\"white-space:pre;overflow-x:auto;line-height:normal;font-family:Menlo,'DejaVu Sans Mono',consolas,'Courier New',monospace\"><span style=\"font-weight: bold\"> Trainable params: </span><span style=\"color: #00af00; text-decoration-color: #00af00\">32,051</span> (125.20 KB)\n",
       "</pre>\n"
      ],
      "text/plain": [
       "\u001b[1m Trainable params: \u001b[0m\u001b[38;5;34m32,051\u001b[0m (125.20 KB)\n"
      ]
     },
     "metadata": {},
     "output_type": "display_data"
    },
    {
     "data": {
      "text/html": [
       "<pre style=\"white-space:pre;overflow-x:auto;line-height:normal;font-family:Menlo,'DejaVu Sans Mono',consolas,'Courier New',monospace\"><span style=\"font-weight: bold\"> Non-trainable params: </span><span style=\"color: #00af00; text-decoration-color: #00af00\">0</span> (0.00 B)\n",
       "</pre>\n"
      ],
      "text/plain": [
       "\u001b[1m Non-trainable params: \u001b[0m\u001b[38;5;34m0\u001b[0m (0.00 B)\n"
      ]
     },
     "metadata": {},
     "output_type": "display_data"
    }
   ],
   "source": [
    "from tensorflow.keras.layers import Input\n",
    "\n",
    "# Build the LSTM model\n",
    "model = Sequential()\n",
    "model.add(LSTM(50, return_sequences=True, input_shape=(X_train.shape[1], X_train.shape[2])))\n",
    "model.add(Dropout(0.2))\n",
    "model.add(LSTM(50))\n",
    "model.add(Dropout(0.2))\n",
    "model.add(Dense(1))  # Output layer for PM2.5 prediction\n",
    "model.compile(optimizer='adam', loss='mean_squared_error')\n",
    "model.summary()"
   ]
  },
  {
   "cell_type": "code",
   "execution_count": 10,
   "id": "28b738ae",
   "metadata": {
    "execution": {
     "iopub.execute_input": "2025-04-07T12:22:14.061443Z",
     "iopub.status.busy": "2025-04-07T12:22:14.060771Z",
     "iopub.status.idle": "2025-04-07T12:28:07.333402Z",
     "shell.execute_reply": "2025-04-07T12:28:07.332139Z"
    },
    "papermill": {
     "duration": 353.283303,
     "end_time": "2025-04-07T12:28:07.336543",
     "exception": false,
     "start_time": "2025-04-07T12:22:14.053240",
     "status": "completed"
    },
    "tags": []
   },
   "outputs": [
    {
     "name": "stdout",
     "output_type": "stream",
     "text": [
      "Epoch 1/80\n",
      "\u001b[1m1189/1189\u001b[0m \u001b[32m━━━━━━━━━━━━━━━━━━━━\u001b[0m\u001b[37m\u001b[0m \u001b[1m8s\u001b[0m 4ms/step - loss: 2311.6914 - val_loss: 1590.2589\n",
      "Epoch 2/80\n",
      "\u001b[1m1189/1189\u001b[0m \u001b[32m━━━━━━━━━━━━━━━━━━━━\u001b[0m\u001b[37m\u001b[0m \u001b[1m4s\u001b[0m 4ms/step - loss: 1479.5432 - val_loss: 1310.2831\n",
      "Epoch 3/80\n",
      "\u001b[1m1189/1189\u001b[0m \u001b[32m━━━━━━━━━━━━━━━━━━━━\u001b[0m\u001b[37m\u001b[0m \u001b[1m4s\u001b[0m 4ms/step - loss: 1330.1675 - val_loss: 1163.1804\n",
      "Epoch 4/80\n",
      "\u001b[1m1189/1189\u001b[0m \u001b[32m━━━━━━━━━━━━━━━━━━━━\u001b[0m\u001b[37m\u001b[0m \u001b[1m4s\u001b[0m 3ms/step - loss: 1138.1603 - val_loss: 1068.9496\n",
      "Epoch 5/80\n",
      "\u001b[1m1189/1189\u001b[0m \u001b[32m━━━━━━━━━━━━━━━━━━━━\u001b[0m\u001b[37m\u001b[0m \u001b[1m4s\u001b[0m 4ms/step - loss: 1253.9858 - val_loss: 995.1382\n",
      "Epoch 6/80\n",
      "\u001b[1m1189/1189\u001b[0m \u001b[32m━━━━━━━━━━━━━━━━━━━━\u001b[0m\u001b[37m\u001b[0m \u001b[1m4s\u001b[0m 4ms/step - loss: 917.7438 - val_loss: 931.1596\n",
      "Epoch 7/80\n",
      "\u001b[1m1189/1189\u001b[0m \u001b[32m━━━━━━━━━━━━━━━━━━━━\u001b[0m\u001b[37m\u001b[0m \u001b[1m5s\u001b[0m 4ms/step - loss: 1039.3936 - val_loss: 874.6207\n",
      "Epoch 8/80\n",
      "\u001b[1m1189/1189\u001b[0m \u001b[32m━━━━━━━━━━━━━━━━━━━━\u001b[0m\u001b[37m\u001b[0m \u001b[1m5s\u001b[0m 4ms/step - loss: 926.8928 - val_loss: 823.4875\n",
      "Epoch 9/80\n",
      "\u001b[1m1189/1189\u001b[0m \u001b[32m━━━━━━━━━━━━━━━━━━━━\u001b[0m\u001b[37m\u001b[0m \u001b[1m5s\u001b[0m 4ms/step - loss: 793.3135 - val_loss: 775.8137\n",
      "Epoch 10/80\n",
      "\u001b[1m1189/1189\u001b[0m \u001b[32m━━━━━━━━━━━━━━━━━━━━\u001b[0m\u001b[37m\u001b[0m \u001b[1m4s\u001b[0m 4ms/step - loss: 691.1127 - val_loss: 736.7466\n",
      "Epoch 11/80\n",
      "\u001b[1m1189/1189\u001b[0m \u001b[32m━━━━━━━━━━━━━━━━━━━━\u001b[0m\u001b[37m\u001b[0m \u001b[1m4s\u001b[0m 4ms/step - loss: 756.6199 - val_loss: 703.8910\n",
      "Epoch 12/80\n",
      "\u001b[1m1189/1189\u001b[0m \u001b[32m━━━━━━━━━━━━━━━━━━━━\u001b[0m\u001b[37m\u001b[0m \u001b[1m4s\u001b[0m 4ms/step - loss: 687.5183 - val_loss: 673.8344\n",
      "Epoch 13/80\n",
      "\u001b[1m1189/1189\u001b[0m \u001b[32m━━━━━━━━━━━━━━━━━━━━\u001b[0m\u001b[37m\u001b[0m \u001b[1m4s\u001b[0m 4ms/step - loss: 721.0862 - val_loss: 649.4977\n",
      "Epoch 14/80\n",
      "\u001b[1m1189/1189\u001b[0m \u001b[32m━━━━━━━━━━━━━━━━━━━━\u001b[0m\u001b[37m\u001b[0m \u001b[1m4s\u001b[0m 4ms/step - loss: 604.8635 - val_loss: 622.0977\n",
      "Epoch 15/80\n",
      "\u001b[1m1189/1189\u001b[0m \u001b[32m━━━━━━━━━━━━━━━━━━━━\u001b[0m\u001b[37m\u001b[0m \u001b[1m4s\u001b[0m 4ms/step - loss: 806.7156 - val_loss: 597.5168\n",
      "Epoch 16/80\n",
      "\u001b[1m1189/1189\u001b[0m \u001b[32m━━━━━━━━━━━━━━━━━━━━\u001b[0m\u001b[37m\u001b[0m \u001b[1m4s\u001b[0m 4ms/step - loss: 787.1920 - val_loss: 574.4702\n",
      "Epoch 17/80\n",
      "\u001b[1m1189/1189\u001b[0m \u001b[32m━━━━━━━━━━━━━━━━━━━━\u001b[0m\u001b[37m\u001b[0m \u001b[1m4s\u001b[0m 4ms/step - loss: 656.0771 - val_loss: 555.3574\n",
      "Epoch 18/80\n",
      "\u001b[1m1189/1189\u001b[0m \u001b[32m━━━━━━━━━━━━━━━━━━━━\u001b[0m\u001b[37m\u001b[0m \u001b[1m4s\u001b[0m 4ms/step - loss: 577.4105 - val_loss: 532.8407\n",
      "Epoch 19/80\n",
      "\u001b[1m1189/1189\u001b[0m \u001b[32m━━━━━━━━━━━━━━━━━━━━\u001b[0m\u001b[37m\u001b[0m \u001b[1m4s\u001b[0m 4ms/step - loss: 500.0186 - val_loss: 513.2223\n",
      "Epoch 20/80\n",
      "\u001b[1m1189/1189\u001b[0m \u001b[32m━━━━━━━━━━━━━━━━━━━━\u001b[0m\u001b[37m\u001b[0m \u001b[1m4s\u001b[0m 4ms/step - loss: 555.1208 - val_loss: 495.1376\n",
      "Epoch 21/80\n",
      "\u001b[1m1189/1189\u001b[0m \u001b[32m━━━━━━━━━━━━━━━━━━━━\u001b[0m\u001b[37m\u001b[0m \u001b[1m4s\u001b[0m 4ms/step - loss: 430.5434 - val_loss: 479.1264\n",
      "Epoch 22/80\n",
      "\u001b[1m1189/1189\u001b[0m \u001b[32m━━━━━━━━━━━━━━━━━━━━\u001b[0m\u001b[37m\u001b[0m \u001b[1m4s\u001b[0m 4ms/step - loss: 441.2390 - val_loss: 462.9024\n",
      "Epoch 23/80\n",
      "\u001b[1m1189/1189\u001b[0m \u001b[32m━━━━━━━━━━━━━━━━━━━━\u001b[0m\u001b[37m\u001b[0m \u001b[1m4s\u001b[0m 4ms/step - loss: 544.7999 - val_loss: 449.9330\n",
      "Epoch 24/80\n",
      "\u001b[1m1189/1189\u001b[0m \u001b[32m━━━━━━━━━━━━━━━━━━━━\u001b[0m\u001b[37m\u001b[0m \u001b[1m4s\u001b[0m 4ms/step - loss: 419.3594 - val_loss: 435.5837\n",
      "Epoch 25/80\n",
      "\u001b[1m1189/1189\u001b[0m \u001b[32m━━━━━━━━━━━━━━━━━━━━\u001b[0m\u001b[37m\u001b[0m \u001b[1m4s\u001b[0m 3ms/step - loss: 494.5255 - val_loss: 424.2971\n",
      "Epoch 26/80\n",
      "\u001b[1m1189/1189\u001b[0m \u001b[32m━━━━━━━━━━━━━━━━━━━━\u001b[0m\u001b[37m\u001b[0m \u001b[1m4s\u001b[0m 4ms/step - loss: 576.7644 - val_loss: 410.9201\n",
      "Epoch 27/80\n",
      "\u001b[1m1189/1189\u001b[0m \u001b[32m━━━━━━━━━━━━━━━━━━━━\u001b[0m\u001b[37m\u001b[0m \u001b[1m4s\u001b[0m 4ms/step - loss: 450.6773 - val_loss: 398.2552\n",
      "Epoch 28/80\n",
      "\u001b[1m1189/1189\u001b[0m \u001b[32m━━━━━━━━━━━━━━━━━━━━\u001b[0m\u001b[37m\u001b[0m \u001b[1m4s\u001b[0m 4ms/step - loss: 413.4073 - val_loss: 391.3023\n",
      "Epoch 29/80\n",
      "\u001b[1m1189/1189\u001b[0m \u001b[32m━━━━━━━━━━━━━━━━━━━━\u001b[0m\u001b[37m\u001b[0m \u001b[1m4s\u001b[0m 4ms/step - loss: 304.2453 - val_loss: 378.5665\n",
      "Epoch 30/80\n",
      "\u001b[1m1189/1189\u001b[0m \u001b[32m━━━━━━━━━━━━━━━━━━━━\u001b[0m\u001b[37m\u001b[0m \u001b[1m4s\u001b[0m 4ms/step - loss: 380.8479 - val_loss: 364.8672\n",
      "Epoch 31/80\n",
      "\u001b[1m1189/1189\u001b[0m \u001b[32m━━━━━━━━━━━━━━━━━━━━\u001b[0m\u001b[37m\u001b[0m \u001b[1m5s\u001b[0m 4ms/step - loss: 477.2115 - val_loss: 355.3963\n",
      "Epoch 32/80\n",
      "\u001b[1m1189/1189\u001b[0m \u001b[32m━━━━━━━━━━━━━━━━━━━━\u001b[0m\u001b[37m\u001b[0m \u001b[1m4s\u001b[0m 3ms/step - loss: 331.4909 - val_loss: 346.7091\n",
      "Epoch 33/80\n",
      "\u001b[1m1189/1189\u001b[0m \u001b[32m━━━━━━━━━━━━━━━━━━━━\u001b[0m\u001b[37m\u001b[0m \u001b[1m4s\u001b[0m 4ms/step - loss: 442.6514 - val_loss: 337.9510\n",
      "Epoch 34/80\n",
      "\u001b[1m1189/1189\u001b[0m \u001b[32m━━━━━━━━━━━━━━━━━━━━\u001b[0m\u001b[37m\u001b[0m \u001b[1m4s\u001b[0m 4ms/step - loss: 414.2196 - val_loss: 334.2343\n",
      "Epoch 35/80\n",
      "\u001b[1m1189/1189\u001b[0m \u001b[32m━━━━━━━━━━━━━━━━━━━━\u001b[0m\u001b[37m\u001b[0m \u001b[1m4s\u001b[0m 4ms/step - loss: 343.1091 - val_loss: 322.6838\n",
      "Epoch 36/80\n",
      "\u001b[1m1189/1189\u001b[0m \u001b[32m━━━━━━━━━━━━━━━━━━━━\u001b[0m\u001b[37m\u001b[0m \u001b[1m4s\u001b[0m 4ms/step - loss: 279.4920 - val_loss: 315.3174\n",
      "Epoch 37/80\n",
      "\u001b[1m1189/1189\u001b[0m \u001b[32m━━━━━━━━━━━━━━━━━━━━\u001b[0m\u001b[37m\u001b[0m \u001b[1m4s\u001b[0m 4ms/step - loss: 355.3971 - val_loss: 306.4190\n",
      "Epoch 38/80\n",
      "\u001b[1m1189/1189\u001b[0m \u001b[32m━━━━━━━━━━━━━━━━━━━━\u001b[0m\u001b[37m\u001b[0m \u001b[1m4s\u001b[0m 4ms/step - loss: 299.2867 - val_loss: 301.4140\n",
      "Epoch 39/80\n",
      "\u001b[1m1189/1189\u001b[0m \u001b[32m━━━━━━━━━━━━━━━━━━━━\u001b[0m\u001b[37m\u001b[0m \u001b[1m4s\u001b[0m 4ms/step - loss: 401.2819 - val_loss: 293.9917\n",
      "Epoch 40/80\n",
      "\u001b[1m1189/1189\u001b[0m \u001b[32m━━━━━━━━━━━━━━━━━━━━\u001b[0m\u001b[37m\u001b[0m \u001b[1m4s\u001b[0m 4ms/step - loss: 287.6843 - val_loss: 286.1024\n",
      "Epoch 41/80\n",
      "\u001b[1m1189/1189\u001b[0m \u001b[32m━━━━━━━━━━━━━━━━━━━━\u001b[0m\u001b[37m\u001b[0m \u001b[1m4s\u001b[0m 4ms/step - loss: 266.6369 - val_loss: 282.4850\n",
      "Epoch 42/80\n",
      "\u001b[1m1189/1189\u001b[0m \u001b[32m━━━━━━━━━━━━━━━━━━━━\u001b[0m\u001b[37m\u001b[0m \u001b[1m4s\u001b[0m 4ms/step - loss: 380.2156 - val_loss: 277.5327\n",
      "Epoch 43/80\n",
      "\u001b[1m1189/1189\u001b[0m \u001b[32m━━━━━━━━━━━━━━━━━━━━\u001b[0m\u001b[37m\u001b[0m \u001b[1m4s\u001b[0m 3ms/step - loss: 259.4863 - val_loss: 271.3748\n",
      "Epoch 44/80\n",
      "\u001b[1m1189/1189\u001b[0m \u001b[32m━━━━━━━━━━━━━━━━━━━━\u001b[0m\u001b[37m\u001b[0m \u001b[1m4s\u001b[0m 4ms/step - loss: 267.1836 - val_loss: 264.0062\n",
      "Epoch 45/80\n",
      "\u001b[1m1189/1189\u001b[0m \u001b[32m━━━━━━━━━━━━━━━━━━━━\u001b[0m\u001b[37m\u001b[0m \u001b[1m4s\u001b[0m 4ms/step - loss: 238.1678 - val_loss: 259.8797\n",
      "Epoch 46/80\n",
      "\u001b[1m1189/1189\u001b[0m \u001b[32m━━━━━━━━━━━━━━━━━━━━\u001b[0m\u001b[37m\u001b[0m \u001b[1m4s\u001b[0m 4ms/step - loss: 273.7585 - val_loss: 252.7404\n",
      "Epoch 47/80\n",
      "\u001b[1m1189/1189\u001b[0m \u001b[32m━━━━━━━━━━━━━━━━━━━━\u001b[0m\u001b[37m\u001b[0m \u001b[1m4s\u001b[0m 4ms/step - loss: 279.7571 - val_loss: 247.9032\n",
      "Epoch 48/80\n",
      "\u001b[1m1189/1189\u001b[0m \u001b[32m━━━━━━━━━━━━━━━━━━━━\u001b[0m\u001b[37m\u001b[0m \u001b[1m4s\u001b[0m 4ms/step - loss: 280.6595 - val_loss: 240.7453\n",
      "Epoch 49/80\n",
      "\u001b[1m1189/1189\u001b[0m \u001b[32m━━━━━━━━━━━━━━━━━━━━\u001b[0m\u001b[37m\u001b[0m \u001b[1m4s\u001b[0m 4ms/step - loss: 230.6232 - val_loss: 236.2559\n",
      "Epoch 50/80\n",
      "\u001b[1m1189/1189\u001b[0m \u001b[32m━━━━━━━━━━━━━━━━━━━━\u001b[0m\u001b[37m\u001b[0m \u001b[1m4s\u001b[0m 4ms/step - loss: 291.3037 - val_loss: 234.4548\n",
      "Epoch 51/80\n",
      "\u001b[1m1189/1189\u001b[0m \u001b[32m━━━━━━━━━━━━━━━━━━━━\u001b[0m\u001b[37m\u001b[0m \u001b[1m4s\u001b[0m 4ms/step - loss: 262.8374 - val_loss: 229.4957\n",
      "Epoch 52/80\n",
      "\u001b[1m1189/1189\u001b[0m \u001b[32m━━━━━━━━━━━━━━━━━━━━\u001b[0m\u001b[37m\u001b[0m \u001b[1m4s\u001b[0m 4ms/step - loss: 380.7980 - val_loss: 225.9067\n",
      "Epoch 53/80\n",
      "\u001b[1m1189/1189\u001b[0m \u001b[32m━━━━━━━━━━━━━━━━━━━━\u001b[0m\u001b[37m\u001b[0m \u001b[1m4s\u001b[0m 4ms/step - loss: 242.9489 - val_loss: 223.7152\n",
      "Epoch 54/80\n",
      "\u001b[1m1189/1189\u001b[0m \u001b[32m━━━━━━━━━━━━━━━━━━━━\u001b[0m\u001b[37m\u001b[0m \u001b[1m5s\u001b[0m 4ms/step - loss: 286.1743 - val_loss: 219.0381\n",
      "Epoch 55/80\n",
      "\u001b[1m1189/1189\u001b[0m \u001b[32m━━━━━━━━━━━━━━━━━━━━\u001b[0m\u001b[37m\u001b[0m \u001b[1m4s\u001b[0m 4ms/step - loss: 245.5560 - val_loss: 214.8949\n",
      "Epoch 56/80\n",
      "\u001b[1m1189/1189\u001b[0m \u001b[32m━━━━━━━━━━━━━━━━━━━━\u001b[0m\u001b[37m\u001b[0m \u001b[1m5s\u001b[0m 4ms/step - loss: 259.7949 - val_loss: 214.2764\n",
      "Epoch 57/80\n",
      "\u001b[1m1189/1189\u001b[0m \u001b[32m━━━━━━━━━━━━━━━━━━━━\u001b[0m\u001b[37m\u001b[0m \u001b[1m5s\u001b[0m 4ms/step - loss: 290.0605 - val_loss: 209.1281\n",
      "Epoch 58/80\n",
      "\u001b[1m1189/1189\u001b[0m \u001b[32m━━━━━━━━━━━━━━━━━━━━\u001b[0m\u001b[37m\u001b[0m \u001b[1m4s\u001b[0m 4ms/step - loss: 229.0979 - val_loss: 202.1715\n",
      "Epoch 59/80\n",
      "\u001b[1m1189/1189\u001b[0m \u001b[32m━━━━━━━━━━━━━━━━━━━━\u001b[0m\u001b[37m\u001b[0m \u001b[1m4s\u001b[0m 4ms/step - loss: 272.9167 - val_loss: 198.4214\n",
      "Epoch 60/80\n",
      "\u001b[1m1189/1189\u001b[0m \u001b[32m━━━━━━━━━━━━━━━━━━━━\u001b[0m\u001b[37m\u001b[0m \u001b[1m4s\u001b[0m 4ms/step - loss: 153.7395 - val_loss: 196.9396\n",
      "Epoch 61/80\n",
      "\u001b[1m1189/1189\u001b[0m \u001b[32m━━━━━━━━━━━━━━━━━━━━\u001b[0m\u001b[37m\u001b[0m \u001b[1m5s\u001b[0m 4ms/step - loss: 272.2303 - val_loss: 196.2010\n",
      "Epoch 62/80\n",
      "\u001b[1m1189/1189\u001b[0m \u001b[32m━━━━━━━━━━━━━━━━━━━━\u001b[0m\u001b[37m\u001b[0m \u001b[1m4s\u001b[0m 4ms/step - loss: 184.0083 - val_loss: 194.6623\n",
      "Epoch 63/80\n",
      "\u001b[1m1189/1189\u001b[0m \u001b[32m━━━━━━━━━━━━━━━━━━━━\u001b[0m\u001b[37m\u001b[0m \u001b[1m4s\u001b[0m 4ms/step - loss: 195.3061 - val_loss: 189.2739\n",
      "Epoch 64/80\n",
      "\u001b[1m1189/1189\u001b[0m \u001b[32m━━━━━━━━━━━━━━━━━━━━\u001b[0m\u001b[37m\u001b[0m \u001b[1m4s\u001b[0m 4ms/step - loss: 244.0357 - val_loss: 185.0676\n",
      "Epoch 65/80\n",
      "\u001b[1m1189/1189\u001b[0m \u001b[32m━━━━━━━━━━━━━━━━━━━━\u001b[0m\u001b[37m\u001b[0m \u001b[1m4s\u001b[0m 4ms/step - loss: 188.7783 - val_loss: 186.3456\n",
      "Epoch 66/80\n",
      "\u001b[1m1189/1189\u001b[0m \u001b[32m━━━━━━━━━━━━━━━━━━━━\u001b[0m\u001b[37m\u001b[0m \u001b[1m4s\u001b[0m 3ms/step - loss: 291.8233 - val_loss: 184.1403\n",
      "Epoch 67/80\n",
      "\u001b[1m1189/1189\u001b[0m \u001b[32m━━━━━━━━━━━━━━━━━━━━\u001b[0m\u001b[37m\u001b[0m \u001b[1m4s\u001b[0m 4ms/step - loss: 174.9354 - val_loss: 182.7088\n",
      "Epoch 68/80\n",
      "\u001b[1m1189/1189\u001b[0m \u001b[32m━━━━━━━━━━━━━━━━━━━━\u001b[0m\u001b[37m\u001b[0m \u001b[1m4s\u001b[0m 4ms/step - loss: 149.9072 - val_loss: 177.3529\n",
      "Epoch 69/80\n",
      "\u001b[1m1189/1189\u001b[0m \u001b[32m━━━━━━━━━━━━━━━━━━━━\u001b[0m\u001b[37m\u001b[0m \u001b[1m5s\u001b[0m 4ms/step - loss: 256.7508 - val_loss: 173.7903\n",
      "Epoch 70/80\n",
      "\u001b[1m1189/1189\u001b[0m \u001b[32m━━━━━━━━━━━━━━━━━━━━\u001b[0m\u001b[37m\u001b[0m \u001b[1m5s\u001b[0m 4ms/step - loss: 168.3486 - val_loss: 168.6499\n",
      "Epoch 71/80\n",
      "\u001b[1m1189/1189\u001b[0m \u001b[32m━━━━━━━━━━━━━━━━━━━━\u001b[0m\u001b[37m\u001b[0m \u001b[1m4s\u001b[0m 4ms/step - loss: 173.4628 - val_loss: 164.5303\n",
      "Epoch 72/80\n",
      "\u001b[1m1189/1189\u001b[0m \u001b[32m━━━━━━━━━━━━━━━━━━━━\u001b[0m\u001b[37m\u001b[0m \u001b[1m4s\u001b[0m 4ms/step - loss: 203.1513 - val_loss: 162.9848\n",
      "Epoch 73/80\n",
      "\u001b[1m1189/1189\u001b[0m \u001b[32m━━━━━━━━━━━━━━━━━━━━\u001b[0m\u001b[37m\u001b[0m \u001b[1m4s\u001b[0m 3ms/step - loss: 266.8407 - val_loss: 162.2528\n",
      "Epoch 74/80\n",
      "\u001b[1m1189/1189\u001b[0m \u001b[32m━━━━━━━━━━━━━━━━━━━━\u001b[0m\u001b[37m\u001b[0m \u001b[1m4s\u001b[0m 4ms/step - loss: 176.1619 - val_loss: 161.0914\n",
      "Epoch 75/80\n",
      "\u001b[1m1189/1189\u001b[0m \u001b[32m━━━━━━━━━━━━━━━━━━━━\u001b[0m\u001b[37m\u001b[0m \u001b[1m4s\u001b[0m 4ms/step - loss: 158.9029 - val_loss: 156.6007\n",
      "Epoch 76/80\n",
      "\u001b[1m1189/1189\u001b[0m \u001b[32m━━━━━━━━━━━━━━━━━━━━\u001b[0m\u001b[37m\u001b[0m \u001b[1m5s\u001b[0m 4ms/step - loss: 142.9903 - val_loss: 154.6728\n",
      "Epoch 77/80\n",
      "\u001b[1m1189/1189\u001b[0m \u001b[32m━━━━━━━━━━━━━━━━━━━━\u001b[0m\u001b[37m\u001b[0m \u001b[1m4s\u001b[0m 4ms/step - loss: 132.4296 - val_loss: 154.1813\n",
      "Epoch 78/80\n",
      "\u001b[1m1189/1189\u001b[0m \u001b[32m━━━━━━━━━━━━━━━━━━━━\u001b[0m\u001b[37m\u001b[0m \u001b[1m4s\u001b[0m 4ms/step - loss: 202.9082 - val_loss: 149.8930\n",
      "Epoch 79/80\n",
      "\u001b[1m1189/1189\u001b[0m \u001b[32m━━━━━━━━━━━━━━━━━━━━\u001b[0m\u001b[37m\u001b[0m \u001b[1m4s\u001b[0m 4ms/step - loss: 166.9980 - val_loss: 147.2227\n",
      "Epoch 80/80\n",
      "\u001b[1m1189/1189\u001b[0m \u001b[32m━━━━━━━━━━━━━━━━━━━━\u001b[0m\u001b[37m\u001b[0m \u001b[1m4s\u001b[0m 4ms/step - loss: 232.4204 - val_loss: 145.6107\n"
     ]
    }
   ],
   "source": [
    "# Train the model\n",
    "history  = model.fit(X_train, y_train, epochs=80, batch_size=32, validation_data=(X_test, y_test))"
   ]
  },
  {
   "cell_type": "code",
   "execution_count": 11,
   "id": "44271fcc",
   "metadata": {
    "execution": {
     "iopub.execute_input": "2025-04-07T12:28:08.124827Z",
     "iopub.status.busy": "2025-04-07T12:28:08.124424Z",
     "iopub.status.idle": "2025-04-07T12:28:09.404788Z",
     "shell.execute_reply": "2025-04-07T12:28:09.403677Z"
    },
    "papermill": {
     "duration": 1.631465,
     "end_time": "2025-04-07T12:28:09.407204",
     "exception": false,
     "start_time": "2025-04-07T12:28:07.775739",
     "status": "completed"
    },
    "tags": []
   },
   "outputs": [
    {
     "name": "stdout",
     "output_type": "stream",
     "text": [
      "\u001b[1m298/298\u001b[0m \u001b[32m━━━━━━━━━━━━━━━━━━━━\u001b[0m\u001b[37m\u001b[0m \u001b[1m1s\u001b[0m 3ms/step\n"
     ]
    }
   ],
   "source": [
    "# Make predictions\n",
    "y_pred = model.predict(X_test)"
   ]
  },
  {
   "cell_type": "code",
   "execution_count": 12,
   "id": "e61952ad",
   "metadata": {
    "execution": {
     "iopub.execute_input": "2025-04-07T12:28:10.103999Z",
     "iopub.status.busy": "2025-04-07T12:28:10.103644Z",
     "iopub.status.idle": "2025-04-07T12:28:10.122123Z",
     "shell.execute_reply": "2025-04-07T12:28:10.120780Z"
    },
    "papermill": {
     "duration": 0.370235,
     "end_time": "2025-04-07T12:28:10.124221",
     "exception": false,
     "start_time": "2025-04-07T12:28:09.753986",
     "status": "completed"
    },
    "tags": []
   },
   "outputs": [
    {
     "name": "stdout",
     "output_type": "stream",
     "text": [
      "Mean Squared Error: 145.61074197072466\n",
      "Mean Absolute Error: 3.716167533045875\n",
      "Test R2 Score: 0.9281162035963547\n"
     ]
    }
   ],
   "source": [
    "from sklearn.metrics import r2_score\n",
    "# Calculate performance metrics\n",
    "mse = mean_squared_error(y_test, y_pred)\n",
    "mae = mean_absolute_error(y_test, y_pred)\n",
    "r2 = r2_score(y_test, y_pred)\n",
    "\n",
    "print(f'Mean Squared Error: {mse}')\n",
    "print(f'Mean Absolute Error: {mae}')\n",
    "print(f\"Test R2 Score: {r2}\")"
   ]
  },
  {
   "cell_type": "code",
   "execution_count": 13,
   "id": "9403fb7a",
   "metadata": {
    "execution": {
     "iopub.execute_input": "2025-04-07T12:28:10.886927Z",
     "iopub.status.busy": "2025-04-07T12:28:10.886330Z",
     "iopub.status.idle": "2025-04-07T12:28:11.204636Z",
     "shell.execute_reply": "2025-04-07T12:28:11.203507Z"
    },
    "papermill": {
     "duration": 0.669645,
     "end_time": "2025-04-07T12:28:11.206313",
     "exception": false,
     "start_time": "2025-04-07T12:28:10.536668",
     "status": "completed"
    },
    "tags": []
   },
   "outputs": [
    {
     "data": {
      "image/png": "[encoded data removed]",
      "text/plain": [
       "<Figure size 1000x600 with 1 Axes>"
      ]
     },
     "metadata": {},
     "output_type": "display_data"
    }
   ],
   "source": [
    "plt.figure(figsize=(10, 6))\n",
    "plt.plot(history.history['loss'], label='Training Loss')\n",
    "plt.plot(history.history['val_loss'], label='Validation Loss')\n",
    "plt.xlabel('Epochs')\n",
    "plt.ylabel('Loss')\n",
    "plt.legend()\n",
    "plt.show()"
   ]
  },
  {
   "cell_type": "code",
   "execution_count": 14,
   "id": "631916fb",
   "metadata": {
    "execution": {
     "iopub.execute_input": "2025-04-07T12:28:11.909700Z",
     "iopub.status.busy": "2025-04-07T12:28:11.909092Z",
     "iopub.status.idle": "2025-04-07T12:28:12.212407Z",
     "shell.execute_reply": "2025-04-07T12:28:12.211116Z"
    },
    "papermill": {
     "duration": 0.651141,
     "end_time": "2025-04-07T12:28:12.214432",
     "exception": false,
     "start_time": "2025-04-07T12:28:11.563291",
     "status": "completed"
    },
    "tags": []
   },
   "outputs": [
    {
     "data": {
      "image/png": "[encoded data removed]",
      "text/plain": [
       "<Figure size 1400x500 with 1 Axes>"
      ]
     },
     "metadata": {},
     "output_type": "display_data"
    }
   ],
   "source": [
    "# Visualize results\n",
    "plt.figure(figsize=(14, 5))\n",
    "plt.plot(y_test.values, label='Actual PM2.5')\n",
    "plt.plot(y_pred, label='Predicted PM2.5')\n",
    "plt.title('Actual vs Predicted PM2.5')\n",
    "plt.xlabel('Samples')\n",
    "plt.ylabel('PM2.5 Levels')\n",
    "plt.legend()\n",
    "plt.show()"
   ]
  },
  {
   "cell_type": "code",
   "execution_count": null,
   "id": "651d09b6",
   "metadata": {
    "papermill": {
     "duration": 0.353817,
     "end_time": "2025-04-07T12:28:12.991624",
     "exception": false,
     "start_time": "2025-04-07T12:28:12.637807",
     "status": "completed"
    },
    "tags": []
   },
   "outputs": [],
   "source": []
  }
 ],
 "metadata": {
  "kaggle": {
   "accelerator": "none",
   "dataSources": [
    {
     "datasetId": 6572660,
     "sourceId": 10616101,
     "sourceType": "datasetVersion"
    }
   ],
   "dockerImageVersionId": 30840,
   "isGpuEnabled": false,
   "isInternetEnabled": false,
   "language": "python",
   "sourceType": "notebook"
  },
  "kernelspec": {
   "display_name": "Python 3",
   "language": "python",
   "name": "python3"
  },
  "language_info": {
   "codemirror_mode": {
    "name": "ipython",
    "version": 3
   },
   "file_extension": ".py",
   "mimetype": "text/x-python",
   "name": "python",
   "nbconvert_exporter": "python",
   "pygments_lexer": "ipython3",
   "version": "3.10.12"
  },
  "papermill": {
   "default_parameters": {},
   "duration": 385.102143,
   "end_time": "2025-04-07T12:28:16.084038",
   "environment_variables": {},
   "exception": null,
   "input_path": "__notebook__.ipynb",
   "output_path": "__notebook__.ipynb",
   "parameters": {},
   "start_time": "2025-04-07T12:21:50.981895",
   "version": "2.6.0"
  }
 },
 "nbformat": 4,
 "nbformat_minor": 5
}
